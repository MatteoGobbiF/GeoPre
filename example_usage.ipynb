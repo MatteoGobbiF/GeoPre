{
 "cells": [
  {
   "cell_type": "code",
   "execution_count": 2,
   "metadata": {},
   "outputs": [],
   "source": [
    "from scaling_and_reproject import get_crs, compare_crs,reproject_data,mask_raster_data,Min_Max_Scaling,Z_score_scaling\n",
    "import numpy as np\n",
    "import numpy.ma as ma\n",
    "import geopandas as gpd\n",
    "import rasterio\n",
    "import rioxarray as rxr"
   ]
  },
  {
   "cell_type": "code",
   "execution_count": 9,
   "metadata": {},
   "outputs": [],
   "source": [
    "#example usage\n",
    "# Load vector data\n",
    "vector = gpd.read_file(\"/mnt/CA6A062B6A06153B/study/Geospatial processing/gp-temporary/test/Municipalities_on_lakes.shp\")\n",
    "# Open raster\n",
    "raster = rxr.open_rasterio(\"/mnt/CA6A062B6A06153B/study/Geospatial processing/gp-temporary/test/l8monzaali_without_csr.tif\")# ,masked=True)"
   ]
  },
  {
   "cell_type": "code",
   "execution_count": 10,
   "metadata": {},
   "outputs": [
    {
     "name": "stdout",
     "output_type": "stream",
     "text": [
      "None\n",
      "EPSG:32632\n"
     ]
    }
   ],
   "source": [
    "#get crs\n",
    "raster_crs=get_crs(raster)\n",
    "vector_crs=get_crs(vector)\n",
    "print(raster_crs)\n",
    "print(vector_crs)"
   ]
  },
  {
   "cell_type": "code",
   "execution_count": 11,
   "metadata": {},
   "outputs": [
    {
     "name": "stdout",
     "output_type": "stream",
     "text": [
      "{'raster_crs': 'No CRS defined', 'vector_crs': 'EPSG:32632', 'same_crs': False, 'error': None}\n"
     ]
    }
   ],
   "source": [
    "#compare crs\n",
    "result = compare_crs(raster, vector)\n",
    "print(result)"
   ]
  },
  {
   "cell_type": "code",
   "execution_count": 12,
   "metadata": {},
   "outputs": [
    {
     "ename": "ValueError",
     "evalue": "Raster data has no CRS. Cannot reproject.",
     "output_type": "error",
     "traceback": [
      "\u001b[0;31m---------------------------------------------------------------------------\u001b[0m",
      "\u001b[0;31mValueError\u001b[0m                                Traceback (most recent call last)",
      "Cell \u001b[0;32mIn[12], line 3\u001b[0m\n\u001b[1;32m      1\u001b[0m \u001b[38;5;66;03m# Reproject\u001b[39;00m\n\u001b[1;32m      2\u001b[0m reprojected_vector \u001b[38;5;241m=\u001b[39m reproject_data(vector, \u001b[38;5;124m\"\u001b[39m\u001b[38;5;124mEPSG:4326\u001b[39m\u001b[38;5;124m\"\u001b[39m)\n\u001b[0;32m----> 3\u001b[0m reprojected_raster \u001b[38;5;241m=\u001b[39m \u001b[43mreproject_data\u001b[49m\u001b[43m(\u001b[49m\u001b[43mraster\u001b[49m\u001b[43m,\u001b[49m\u001b[43m \u001b[49m\u001b[38;5;124;43m\"\u001b[39;49m\u001b[38;5;124;43mEPSG:3857\u001b[39;49m\u001b[38;5;124;43m\"\u001b[39;49m\u001b[43m)\u001b[49m\n\u001b[1;32m      5\u001b[0m \u001b[38;5;66;03m# Save output (maintains all geospatial information)\u001b[39;00m\n\u001b[1;32m      6\u001b[0m reprojected_raster\u001b[38;5;241m.\u001b[39mrio\u001b[38;5;241m.\u001b[39mto_raster(\u001b[38;5;124m\"\u001b[39m\u001b[38;5;124m/mnt/CA6A062B6A06153B/study/Geospatial processing/gp-temporary/test/output.tif\u001b[39m\u001b[38;5;124m\"\u001b[39m)\n",
      "File \u001b[0;32m/mnt/CA6A062B6A06153B/study/Geospatial processing/gp-temporary/scaling_and_reproject.py:146\u001b[0m, in \u001b[0;36mreproject_data\u001b[0;34m(data, target_crs)\u001b[0m\n\u001b[1;32m    144\u001b[0m \u001b[38;5;28;01melif\u001b[39;00m \u001b[38;5;28misinstance\u001b[39m(data, (xr\u001b[38;5;241m.\u001b[39mDataArray, xr\u001b[38;5;241m.\u001b[39mDataset)):\n\u001b[1;32m    145\u001b[0m     \u001b[38;5;28;01mif\u001b[39;00m \u001b[38;5;129;01mnot\u001b[39;00m data\u001b[38;5;241m.\u001b[39mrio\u001b[38;5;241m.\u001b[39mcrs:\n\u001b[0;32m--> 146\u001b[0m         \u001b[38;5;28;01mraise\u001b[39;00m \u001b[38;5;167;01mValueError\u001b[39;00m(\u001b[38;5;124m\"\u001b[39m\u001b[38;5;124mRaster data has no CRS. Cannot reproject.\u001b[39m\u001b[38;5;124m\"\u001b[39m)\n\u001b[1;32m    148\u001b[0m     \u001b[38;5;66;03m# Compare using pyproj.CRS objects\u001b[39;00m\n\u001b[1;32m    149\u001b[0m     \u001b[38;5;28;01mif\u001b[39;00m CRS(data\u001b[38;5;241m.\u001b[39mrio\u001b[38;5;241m.\u001b[39mcrs) \u001b[38;5;241m==\u001b[39m target_crs:\n",
      "\u001b[0;31mValueError\u001b[0m: Raster data has no CRS. Cannot reproject."
     ]
    }
   ],
   "source": [
    "# Reproject\n",
    "reprojected_vector = reproject_data(vector, \"EPSG:4326\")\n",
    "reprojected_raster = reproject_data(raster, \"EPSG:3857\")\n",
    "\n",
    "# Save output (maintains all geospatial information)\n",
    "reprojected_raster.rio.to_raster(\"/mnt/CA6A062B6A06153B/study/Geospatial processing/gp-temporary/test/output.tif\")\n",
    "\n",
    "print(get_crs(reprojected_raster))\n",
    "print(get_crs(reprojected_vector))"
   ]
  },
  {
   "cell_type": "code",
   "execution_count": null,
   "metadata": {},
   "outputs": [],
   "source": [
    "#mask no value data\n",
    "#for raster loded by rioxarray\n",
    "data = rxr.open_rasterio(\"/mnt/CA6A062B6A06153B/study/Geospatial processing/gp-temporary/test/output.tif\")\n",
    "masked_data, mask = mask_raster_data(data, return_mask=True)\n",
    "print(\"masked_data:\",masked_data)\n",
    "print(\"mask:\",mask)\n",
    "\n",
    "\n",
    "#Undefined No-Data: If the raster lacks nodata metadata, specify it manually:\n",
    "# Specify a no-data value explicitly (e.g., -9999)\n",
    "no_data_value = -9999\n",
    "masked_data, mask = mask_raster_data(data, no_data_value=no_data_value, return_mask=True)\n",
    "\n",
    "\n",
    "#Multi-Band Masks: To mask pixels where any band has no-data:\n",
    "combined_mask = mask.all(dim=\"band\")  # Mask where all bands are valid\n",
    "masked_data = data.where(combined_mask)\n",
    "# Flatten the data for scikit-learn\n",
    "valid_data = masked_data.stack(samples=(\"y\", \"x\")).dropna(dim=\"samples\")\n",
    "print(\"valid_data:\",valid_data)"
   ]
  },
  {
   "cell_type": "code",
   "execution_count": null,
   "metadata": {},
   "outputs": [],
   "source": [
    "#for raster loaded by rasterio\n",
    "with rasterio.open(\"/mnt/CA6A062B6A06153B/study/Geospatial processing/gp-temporary/test/output.tif\") as src:\n",
    "    data = src.read()\n",
    "    profile = src.profile\n",
    "masked_data, mask, profile = mask_raster_data(data, profile=profile, return_mask=True)\n",
    "print(\"maksed_data:\",masked_data)\n",
    "print(\"mask:\",mask)\n",
    "\n",
    "#If the raster lacks nodata metadata,specify a no-data value explicitly (e.g., -9999)\n",
    "no_data_value = -9999\n",
    "# Mask the raster data\n",
    "masked_data, mask, profile = mask_raster_data(data, no_data_value=no_data_value, return_mask=True)\n",
    "\n"
   ]
  },
  {
   "cell_type": "code",
   "execution_count": null,
   "metadata": {},
   "outputs": [],
   "source": [
    "# Create a combined mask for all bands (valid if all bands are valid)\n",
    "multi_band_mask = np.all(mask, axis=0)  # Shape: [height, width]\n",
    "masked_data = ma.masked_array(data, mask=np.broadcast_to(~mask, data.shape))\n",
    "\n",
    "# For classification, extract valid pixels (across all bands)\n",
    "valid_samples = masked_data.compressed()  # Flattened array of valid values\n",
    "print(\"valid_samples:\",valid_samples)"
   ]
  },
  {
   "cell_type": "code",
   "execution_count": null,
   "metadata": {},
   "outputs": [],
   "source": [
    "#z_ score scaling\n",
    "raster=Z_score_scaling(raster)"
   ]
  },
  {
   "cell_type": "code",
   "execution_count": null,
   "metadata": {},
   "outputs": [],
   "source": [
    "#min_max scaling\n",
    "raster=Min_Max_Scaling(raster)"
   ]
  },
  {
   "cell_type": "code",
   "execution_count": 8,
   "metadata": {},
   "outputs": [],
   "source": [
    "import rasterio\n",
    "from rasterio.shutil import copy\n",
    "\n",
    "# Open the input file\n",
    "with rasterio.open(\"/mnt/CA6A062B6A06153B/study/Geospatial processing/test/l8monzaali.tif\") as src:\n",
    "    # Copy the dataset while omitting the CRS\n",
    "    profile = src.profile.copy()\n",
    "    profile.pop(\"crs\", None)  # Remove the CRS\n",
    "\n",
    "    with rasterio.open(\"l8monzaali_without_csr.tif\", \"w\", **profile) as dst:\n",
    "        dst.write(src.read())  # Copy data\n"
   ]
  }
 ],
 "metadata": {
  "kernelspec": {
   "display_name": "gpProject",
   "language": "python",
   "name": "python3"
  },
  "language_info": {
   "codemirror_mode": {
    "name": "ipython",
    "version": 3
   },
   "file_extension": ".py",
   "mimetype": "text/x-python",
   "name": "python",
   "nbconvert_exporter": "python",
   "pygments_lexer": "ipython3",
   "version": "3.13.1"
  }
 },
 "nbformat": 4,
 "nbformat_minor": 2
}
